{
 "cells": [
  {
   "cell_type": "markdown",
   "metadata": {},
   "source": [
    "# Enade - Transformação de Dados - parte 01"
   ]
  },
  {
   "cell_type": "code",
   "execution_count": 1,
   "metadata": {},
   "outputs": [],
   "source": [
    "# Importar as bibliotecas\n",
    "import pandas as pd\n",
    "import numpy as np\n",
    "import os"
   ]
  },
  {
   "cell_type": "code",
   "execution_count": 2,
   "metadata": {},
   "outputs": [],
   "source": [
    "enade = pd.read_csv(\"./enade2019/microdados_enade_2019/2019/3.DADOS/microdados_enade_2019.txt\",\n",
    "                    sep = \";\",\n",
    "                    decimal = \",\")"
   ]
  },
  {
   "cell_type": "code",
   "execution_count": 3,
   "metadata": {},
   "outputs": [
    {
     "data": {
      "text/html": [
       "<div>\n",
       "<style scoped>\n",
       "    .dataframe tbody tr th:only-of-type {\n",
       "        vertical-align: middle;\n",
       "    }\n",
       "\n",
       "    .dataframe tbody tr th {\n",
       "        vertical-align: top;\n",
       "    }\n",
       "\n",
       "    .dataframe thead th {\n",
       "        text-align: right;\n",
       "    }\n",
       "</style>\n",
       "<table border=\"1\" class=\"dataframe\">\n",
       "  <thead>\n",
       "    <tr style=\"text-align: right;\">\n",
       "      <th></th>\n",
       "      <th>NU_ANO</th>\n",
       "      <th>CO_IES</th>\n",
       "      <th>CO_CATEGAD</th>\n",
       "      <th>CO_ORGACAD</th>\n",
       "      <th>CO_GRUPO</th>\n",
       "      <th>CO_CURSO</th>\n",
       "      <th>CO_MODALIDADE</th>\n",
       "      <th>CO_MUNIC_CURSO</th>\n",
       "      <th>CO_UF_CURSO</th>\n",
       "      <th>CO_REGIAO_CURSO</th>\n",
       "      <th>...</th>\n",
       "      <th>QE_I59</th>\n",
       "      <th>QE_I60</th>\n",
       "      <th>QE_I61</th>\n",
       "      <th>QE_I62</th>\n",
       "      <th>QE_I63</th>\n",
       "      <th>QE_I64</th>\n",
       "      <th>QE_I65</th>\n",
       "      <th>QE_I66</th>\n",
       "      <th>QE_I67</th>\n",
       "      <th>QE_I68</th>\n",
       "    </tr>\n",
       "  </thead>\n",
       "  <tbody>\n",
       "    <tr>\n",
       "      <th>0</th>\n",
       "      <td>2019</td>\n",
       "      <td>1</td>\n",
       "      <td>10002</td>\n",
       "      <td>10028</td>\n",
       "      <td>5710</td>\n",
       "      <td>3</td>\n",
       "      <td>1</td>\n",
       "      <td>5103403</td>\n",
       "      <td>51</td>\n",
       "      <td>5</td>\n",
       "      <td>...</td>\n",
       "      <td>2.0</td>\n",
       "      <td>5.0</td>\n",
       "      <td>1.0</td>\n",
       "      <td>1.0</td>\n",
       "      <td>2.0</td>\n",
       "      <td>5.0</td>\n",
       "      <td>8.0</td>\n",
       "      <td>7.0</td>\n",
       "      <td>1.0</td>\n",
       "      <td>2.0</td>\n",
       "    </tr>\n",
       "    <tr>\n",
       "      <th>1</th>\n",
       "      <td>2019</td>\n",
       "      <td>1</td>\n",
       "      <td>10002</td>\n",
       "      <td>10028</td>\n",
       "      <td>5710</td>\n",
       "      <td>3</td>\n",
       "      <td>1</td>\n",
       "      <td>5103403</td>\n",
       "      <td>51</td>\n",
       "      <td>5</td>\n",
       "      <td>...</td>\n",
       "      <td>1.0</td>\n",
       "      <td>4.0</td>\n",
       "      <td>2.0</td>\n",
       "      <td>2.0</td>\n",
       "      <td>2.0</td>\n",
       "      <td>5.0</td>\n",
       "      <td>4.0</td>\n",
       "      <td>4.0</td>\n",
       "      <td>2.0</td>\n",
       "      <td>2.0</td>\n",
       "    </tr>\n",
       "    <tr>\n",
       "      <th>2</th>\n",
       "      <td>2019</td>\n",
       "      <td>1</td>\n",
       "      <td>10002</td>\n",
       "      <td>10028</td>\n",
       "      <td>5710</td>\n",
       "      <td>3</td>\n",
       "      <td>1</td>\n",
       "      <td>5103403</td>\n",
       "      <td>51</td>\n",
       "      <td>5</td>\n",
       "      <td>...</td>\n",
       "      <td>3.0</td>\n",
       "      <td>4.0</td>\n",
       "      <td>4.0</td>\n",
       "      <td>3.0</td>\n",
       "      <td>3.0</td>\n",
       "      <td>4.0</td>\n",
       "      <td>1.0</td>\n",
       "      <td>1.0</td>\n",
       "      <td>1.0</td>\n",
       "      <td>4.0</td>\n",
       "    </tr>\n",
       "    <tr>\n",
       "      <th>3</th>\n",
       "      <td>2019</td>\n",
       "      <td>1</td>\n",
       "      <td>10002</td>\n",
       "      <td>10028</td>\n",
       "      <td>5710</td>\n",
       "      <td>3</td>\n",
       "      <td>1</td>\n",
       "      <td>5103403</td>\n",
       "      <td>51</td>\n",
       "      <td>5</td>\n",
       "      <td>...</td>\n",
       "      <td>3.0</td>\n",
       "      <td>5.0</td>\n",
       "      <td>2.0</td>\n",
       "      <td>2.0</td>\n",
       "      <td>2.0</td>\n",
       "      <td>3.0</td>\n",
       "      <td>3.0</td>\n",
       "      <td>4.0</td>\n",
       "      <td>3.0</td>\n",
       "      <td>3.0</td>\n",
       "    </tr>\n",
       "    <tr>\n",
       "      <th>4</th>\n",
       "      <td>2019</td>\n",
       "      <td>1</td>\n",
       "      <td>10002</td>\n",
       "      <td>10028</td>\n",
       "      <td>5710</td>\n",
       "      <td>3</td>\n",
       "      <td>1</td>\n",
       "      <td>5103403</td>\n",
       "      <td>51</td>\n",
       "      <td>5</td>\n",
       "      <td>...</td>\n",
       "      <td>NaN</td>\n",
       "      <td>NaN</td>\n",
       "      <td>NaN</td>\n",
       "      <td>NaN</td>\n",
       "      <td>NaN</td>\n",
       "      <td>NaN</td>\n",
       "      <td>NaN</td>\n",
       "      <td>NaN</td>\n",
       "      <td>NaN</td>\n",
       "      <td>NaN</td>\n",
       "    </tr>\n",
       "    <tr>\n",
       "      <th>...</th>\n",
       "      <td>...</td>\n",
       "      <td>...</td>\n",
       "      <td>...</td>\n",
       "      <td>...</td>\n",
       "      <td>...</td>\n",
       "      <td>...</td>\n",
       "      <td>...</td>\n",
       "      <td>...</td>\n",
       "      <td>...</td>\n",
       "      <td>...</td>\n",
       "      <td>...</td>\n",
       "      <td>...</td>\n",
       "      <td>...</td>\n",
       "      <td>...</td>\n",
       "      <td>...</td>\n",
       "      <td>...</td>\n",
       "      <td>...</td>\n",
       "      <td>...</td>\n",
       "      <td>...</td>\n",
       "      <td>...</td>\n",
       "      <td>...</td>\n",
       "    </tr>\n",
       "    <tr>\n",
       "      <th>433925</th>\n",
       "      <td>2019</td>\n",
       "      <td>3948</td>\n",
       "      <td>10008</td>\n",
       "      <td>10022</td>\n",
       "      <td>95</td>\n",
       "      <td>5001378</td>\n",
       "      <td>1</td>\n",
       "      <td>4202909</td>\n",
       "      <td>42</td>\n",
       "      <td>4</td>\n",
       "      <td>...</td>\n",
       "      <td>6.0</td>\n",
       "      <td>6.0</td>\n",
       "      <td>6.0</td>\n",
       "      <td>6.0</td>\n",
       "      <td>6.0</td>\n",
       "      <td>6.0</td>\n",
       "      <td>6.0</td>\n",
       "      <td>6.0</td>\n",
       "      <td>6.0</td>\n",
       "      <td>6.0</td>\n",
       "    </tr>\n",
       "    <tr>\n",
       "      <th>433926</th>\n",
       "      <td>2019</td>\n",
       "      <td>3948</td>\n",
       "      <td>10008</td>\n",
       "      <td>10022</td>\n",
       "      <td>95</td>\n",
       "      <td>5001378</td>\n",
       "      <td>1</td>\n",
       "      <td>4202909</td>\n",
       "      <td>42</td>\n",
       "      <td>4</td>\n",
       "      <td>...</td>\n",
       "      <td>6.0</td>\n",
       "      <td>6.0</td>\n",
       "      <td>6.0</td>\n",
       "      <td>6.0</td>\n",
       "      <td>6.0</td>\n",
       "      <td>6.0</td>\n",
       "      <td>6.0</td>\n",
       "      <td>6.0</td>\n",
       "      <td>6.0</td>\n",
       "      <td>6.0</td>\n",
       "    </tr>\n",
       "    <tr>\n",
       "      <th>433927</th>\n",
       "      <td>2019</td>\n",
       "      <td>3948</td>\n",
       "      <td>10008</td>\n",
       "      <td>10022</td>\n",
       "      <td>95</td>\n",
       "      <td>5001378</td>\n",
       "      <td>1</td>\n",
       "      <td>4202909</td>\n",
       "      <td>42</td>\n",
       "      <td>4</td>\n",
       "      <td>...</td>\n",
       "      <td>6.0</td>\n",
       "      <td>6.0</td>\n",
       "      <td>6.0</td>\n",
       "      <td>6.0</td>\n",
       "      <td>6.0</td>\n",
       "      <td>6.0</td>\n",
       "      <td>6.0</td>\n",
       "      <td>6.0</td>\n",
       "      <td>6.0</td>\n",
       "      <td>6.0</td>\n",
       "    </tr>\n",
       "    <tr>\n",
       "      <th>433928</th>\n",
       "      <td>2019</td>\n",
       "      <td>3948</td>\n",
       "      <td>10008</td>\n",
       "      <td>10022</td>\n",
       "      <td>95</td>\n",
       "      <td>5001378</td>\n",
       "      <td>1</td>\n",
       "      <td>4202909</td>\n",
       "      <td>42</td>\n",
       "      <td>4</td>\n",
       "      <td>...</td>\n",
       "      <td>6.0</td>\n",
       "      <td>6.0</td>\n",
       "      <td>6.0</td>\n",
       "      <td>6.0</td>\n",
       "      <td>6.0</td>\n",
       "      <td>6.0</td>\n",
       "      <td>6.0</td>\n",
       "      <td>6.0</td>\n",
       "      <td>6.0</td>\n",
       "      <td>6.0</td>\n",
       "    </tr>\n",
       "    <tr>\n",
       "      <th>433929</th>\n",
       "      <td>2019</td>\n",
       "      <td>3948</td>\n",
       "      <td>10008</td>\n",
       "      <td>10022</td>\n",
       "      <td>95</td>\n",
       "      <td>5001378</td>\n",
       "      <td>1</td>\n",
       "      <td>4202909</td>\n",
       "      <td>42</td>\n",
       "      <td>4</td>\n",
       "      <td>...</td>\n",
       "      <td>6.0</td>\n",
       "      <td>6.0</td>\n",
       "      <td>6.0</td>\n",
       "      <td>6.0</td>\n",
       "      <td>6.0</td>\n",
       "      <td>6.0</td>\n",
       "      <td>6.0</td>\n",
       "      <td>6.0</td>\n",
       "      <td>6.0</td>\n",
       "      <td>6.0</td>\n",
       "    </tr>\n",
       "  </tbody>\n",
       "</table>\n",
       "<p>433930 rows × 137 columns</p>\n",
       "</div>"
      ],
      "text/plain": [
       "        NU_ANO  CO_IES  CO_CATEGAD  CO_ORGACAD  CO_GRUPO  CO_CURSO  \\\n",
       "0         2019       1       10002       10028      5710         3   \n",
       "1         2019       1       10002       10028      5710         3   \n",
       "2         2019       1       10002       10028      5710         3   \n",
       "3         2019       1       10002       10028      5710         3   \n",
       "4         2019       1       10002       10028      5710         3   \n",
       "...        ...     ...         ...         ...       ...       ...   \n",
       "433925    2019    3948       10008       10022        95   5001378   \n",
       "433926    2019    3948       10008       10022        95   5001378   \n",
       "433927    2019    3948       10008       10022        95   5001378   \n",
       "433928    2019    3948       10008       10022        95   5001378   \n",
       "433929    2019    3948       10008       10022        95   5001378   \n",
       "\n",
       "        CO_MODALIDADE  CO_MUNIC_CURSO  CO_UF_CURSO  CO_REGIAO_CURSO  ...  \\\n",
       "0                   1         5103403           51                5  ...   \n",
       "1                   1         5103403           51                5  ...   \n",
       "2                   1         5103403           51                5  ...   \n",
       "3                   1         5103403           51                5  ...   \n",
       "4                   1         5103403           51                5  ...   \n",
       "...               ...             ...          ...              ...  ...   \n",
       "433925              1         4202909           42                4  ...   \n",
       "433926              1         4202909           42                4  ...   \n",
       "433927              1         4202909           42                4  ...   \n",
       "433928              1         4202909           42                4  ...   \n",
       "433929              1         4202909           42                4  ...   \n",
       "\n",
       "        QE_I59 QE_I60  QE_I61  QE_I62  QE_I63  QE_I64  QE_I65  QE_I66  QE_I67  \\\n",
       "0          2.0    5.0     1.0     1.0     2.0     5.0     8.0     7.0     1.0   \n",
       "1          1.0    4.0     2.0     2.0     2.0     5.0     4.0     4.0     2.0   \n",
       "2          3.0    4.0     4.0     3.0     3.0     4.0     1.0     1.0     1.0   \n",
       "3          3.0    5.0     2.0     2.0     2.0     3.0     3.0     4.0     3.0   \n",
       "4          NaN    NaN     NaN     NaN     NaN     NaN     NaN     NaN     NaN   \n",
       "...        ...    ...     ...     ...     ...     ...     ...     ...     ...   \n",
       "433925     6.0    6.0     6.0     6.0     6.0     6.0     6.0     6.0     6.0   \n",
       "433926     6.0    6.0     6.0     6.0     6.0     6.0     6.0     6.0     6.0   \n",
       "433927     6.0    6.0     6.0     6.0     6.0     6.0     6.0     6.0     6.0   \n",
       "433928     6.0    6.0     6.0     6.0     6.0     6.0     6.0     6.0     6.0   \n",
       "433929     6.0    6.0     6.0     6.0     6.0     6.0     6.0     6.0     6.0   \n",
       "\n",
       "        QE_I68  \n",
       "0          2.0  \n",
       "1          2.0  \n",
       "2          4.0  \n",
       "3          3.0  \n",
       "4          NaN  \n",
       "...        ...  \n",
       "433925     6.0  \n",
       "433926     6.0  \n",
       "433927     6.0  \n",
       "433928     6.0  \n",
       "433929     6.0  \n",
       "\n",
       "[433930 rows x 137 columns]"
      ]
     },
     "execution_count": 3,
     "metadata": {},
     "output_type": "execute_result"
    }
   ],
   "source": [
    "enade"
   ]
  },
  {
   "cell_type": "code",
   "execution_count": 6,
   "metadata": {},
   "outputs": [
    {
     "data": {
      "text/plain": [
       "{'NU_ANO': dtype('int64'),\n",
       " 'CO_IES': dtype('int64'),\n",
       " 'CO_CATEGAD': dtype('int64'),\n",
       " 'CO_ORGACAD': dtype('int64'),\n",
       " 'CO_GRUPO': dtype('int64'),\n",
       " 'CO_CURSO': dtype('int64'),\n",
       " 'CO_MODALIDADE': dtype('int64'),\n",
       " 'CO_MUNIC_CURSO': dtype('int64'),\n",
       " 'CO_UF_CURSO': dtype('int64'),\n",
       " 'CO_REGIAO_CURSO': dtype('int64'),\n",
       " 'NU_IDADE': dtype('int64'),\n",
       " 'TP_SEXO': dtype('O'),\n",
       " 'ANO_FIM_EM': dtype('int64'),\n",
       " 'ANO_IN_GRAD': dtype('float64'),\n",
       " 'CO_TURNO_GRADUACAO': dtype('float64'),\n",
       " 'TP_INSCRICAO_ADM': dtype('int64'),\n",
       " 'TP_INSCRICAO': dtype('int64'),\n",
       " 'NU_ITEM_OFG': dtype('int64'),\n",
       " 'NU_ITEM_OFG_Z': dtype('int64'),\n",
       " 'NU_ITEM_OFG_X': dtype('int64'),\n",
       " 'NU_ITEM_OFG_N': dtype('int64'),\n",
       " 'NU_ITEM_OCE': dtype('int64'),\n",
       " 'NU_ITEM_OCE_Z': dtype('int64'),\n",
       " 'NU_ITEM_OCE_X': dtype('int64'),\n",
       " 'NU_ITEM_OCE_N': dtype('int64'),\n",
       " 'DS_VT_GAB_OFG_ORIG': dtype('O'),\n",
       " 'DS_VT_GAB_OFG_FIN': dtype('O'),\n",
       " 'DS_VT_GAB_OCE_ORIG': dtype('O'),\n",
       " 'DS_VT_GAB_OCE_FIN': dtype('O'),\n",
       " 'DS_VT_ESC_OFG': dtype('O'),\n",
       " 'DS_VT_ACE_OFG': dtype('O'),\n",
       " 'DS_VT_ESC_OCE': dtype('O'),\n",
       " 'DS_VT_ACE_OCE': dtype('O'),\n",
       " 'TP_PRES': dtype('int64'),\n",
       " 'TP_PR_GER': dtype('int64'),\n",
       " 'TP_PR_OB_FG': dtype('int64'),\n",
       " 'TP_PR_DI_FG': dtype('int64'),\n",
       " 'TP_PR_OB_CE': dtype('int64'),\n",
       " 'TP_PR_DI_CE': dtype('int64'),\n",
       " 'TP_SFG_D1': dtype('int64'),\n",
       " 'TP_SFG_D2': dtype('int64'),\n",
       " 'TP_SCE_D1': dtype('int64'),\n",
       " 'TP_SCE_D2': dtype('int64'),\n",
       " 'TP_SCE_D3': dtype('int64'),\n",
       " 'NT_GER': dtype('float64'),\n",
       " 'NT_FG': dtype('float64'),\n",
       " 'NT_OBJ_FG': dtype('float64'),\n",
       " 'NT_DIS_FG': dtype('float64'),\n",
       " 'NT_FG_D1': dtype('float64'),\n",
       " 'NT_FG_D1_PT': dtype('float64'),\n",
       " 'NT_FG_D1_CT': dtype('float64'),\n",
       " 'NT_FG_D2': dtype('float64'),\n",
       " 'NT_FG_D2_PT': dtype('float64'),\n",
       " 'NT_FG_D2_CT': dtype('float64'),\n",
       " 'NT_CE': dtype('float64'),\n",
       " 'NT_OBJ_CE': dtype('float64'),\n",
       " 'NT_DIS_CE': dtype('float64'),\n",
       " 'NT_CE_D1': dtype('float64'),\n",
       " 'NT_CE_D2': dtype('float64'),\n",
       " 'NT_CE_D3': dtype('float64'),\n",
       " 'CO_RS_I1': dtype('O'),\n",
       " 'CO_RS_I2': dtype('O'),\n",
       " 'CO_RS_I3': dtype('O'),\n",
       " 'CO_RS_I4': dtype('O'),\n",
       " 'CO_RS_I5': dtype('O'),\n",
       " 'CO_RS_I6': dtype('O'),\n",
       " 'CO_RS_I7': dtype('O'),\n",
       " 'CO_RS_I8': dtype('O'),\n",
       " 'CO_RS_I9': dtype('O'),\n",
       " 'QE_I01': dtype('O'),\n",
       " 'QE_I02': dtype('O'),\n",
       " 'QE_I03': dtype('O'),\n",
       " 'QE_I04': dtype('O'),\n",
       " 'QE_I05': dtype('O'),\n",
       " 'QE_I06': dtype('O'),\n",
       " 'QE_I07': dtype('O'),\n",
       " 'QE_I08': dtype('O'),\n",
       " 'QE_I09': dtype('O'),\n",
       " 'QE_I10': dtype('O'),\n",
       " 'QE_I11': dtype('O'),\n",
       " 'QE_I12': dtype('O'),\n",
       " 'QE_I13': dtype('O'),\n",
       " 'QE_I14': dtype('O'),\n",
       " 'QE_I15': dtype('O'),\n",
       " 'QE_I16': dtype('float64'),\n",
       " 'QE_I17': dtype('O'),\n",
       " 'QE_I18': dtype('O'),\n",
       " 'QE_I19': dtype('O'),\n",
       " 'QE_I20': dtype('O'),\n",
       " 'QE_I21': dtype('O'),\n",
       " 'QE_I22': dtype('O'),\n",
       " 'QE_I23': dtype('O'),\n",
       " 'QE_I24': dtype('O'),\n",
       " 'QE_I25': dtype('O'),\n",
       " 'QE_I26': dtype('O'),\n",
       " 'QE_I27': dtype('float64'),\n",
       " 'QE_I28': dtype('float64'),\n",
       " 'QE_I29': dtype('float64'),\n",
       " 'QE_I30': dtype('float64'),\n",
       " 'QE_I31': dtype('float64'),\n",
       " 'QE_I32': dtype('float64'),\n",
       " 'QE_I33': dtype('float64'),\n",
       " 'QE_I34': dtype('float64'),\n",
       " 'QE_I35': dtype('float64'),\n",
       " 'QE_I36': dtype('float64'),\n",
       " 'QE_I37': dtype('float64'),\n",
       " 'QE_I38': dtype('float64'),\n",
       " 'QE_I39': dtype('float64'),\n",
       " 'QE_I40': dtype('float64'),\n",
       " 'QE_I41': dtype('float64'),\n",
       " 'QE_I42': dtype('float64'),\n",
       " 'QE_I43': dtype('float64'),\n",
       " 'QE_I44': dtype('float64'),\n",
       " 'QE_I45': dtype('float64'),\n",
       " 'QE_I46': dtype('float64'),\n",
       " 'QE_I47': dtype('float64'),\n",
       " 'QE_I48': dtype('float64'),\n",
       " 'QE_I49': dtype('float64'),\n",
       " 'QE_I50': dtype('float64'),\n",
       " 'QE_I51': dtype('float64'),\n",
       " 'QE_I52': dtype('float64'),\n",
       " 'QE_I53': dtype('float64'),\n",
       " 'QE_I54': dtype('float64'),\n",
       " 'QE_I55': dtype('float64'),\n",
       " 'QE_I56': dtype('float64'),\n",
       " 'QE_I57': dtype('float64'),\n",
       " 'QE_I58': dtype('float64'),\n",
       " 'QE_I59': dtype('float64'),\n",
       " 'QE_I60': dtype('float64'),\n",
       " 'QE_I61': dtype('float64'),\n",
       " 'QE_I62': dtype('float64'),\n",
       " 'QE_I63': dtype('float64'),\n",
       " 'QE_I64': dtype('float64'),\n",
       " 'QE_I65': dtype('float64'),\n",
       " 'QE_I66': dtype('float64'),\n",
       " 'QE_I67': dtype('float64'),\n",
       " 'QE_I68': dtype('float64')}"
      ]
     },
     "execution_count": 6,
     "metadata": {},
     "output_type": "execute_result"
    }
   ],
   "source": [
    "# Verificando o schema da tabela \n",
    "dict(enade.dtypes)"
   ]
  },
  {
   "cell_type": "markdown",
   "metadata": {},
   "source": [
    "## Alguns itens para analise \n",
    "\n",
    "- CO_IES\n",
    "- CO_CATEGAD\n",
    "- CO_GRUPO\n",
    "- CO_MODALIDADE\n",
    "- CO_UF_CURSO\n",
    "- CO_REGIAO_CURSO\n",
    "- NU_IDADE\n",
    "- TP_SEXO\n",
    "- NT_GER\n",
    "- NT_FG\n",
    "- NT_CE\n",
    "\n",
    "## Mais alguns itens do questionário do estudante:\n",
    "    \n",
    "- 01: Estado Civil\n",
    "- 02: Cou ou raça \n",
    "- 04: Escolaridade do pai\n",
    "- 05: Escolaridade da mãe\n",
    "- 08: Renda Familiar\n",
    "- 10: Situação de trabalho \n",
    "- 11: Situação de bolsa\n",
    "- 14: Intercâmbio\n",
    "- 15: Cotas\n",
    "- 23: Horas de Estudo / semana\n",
    "- 25: Motivo de escolha do curso\n",
    "- 26: Motivo de escolha da IES"
   ]
  },
  {
   "cell_type": "code",
   "execution_count": 7,
   "metadata": {},
   "outputs": [
    {
     "data": {
      "text/plain": [
       "count    390091.000000\n",
       "mean         44.076610\n",
       "std          14.542059\n",
       "min           0.000000\n",
       "25%          33.200000\n",
       "50%          43.800000\n",
       "75%          54.800000\n",
       "max          93.000000\n",
       "Name: NT_GER, dtype: float64"
      ]
     },
     "execution_count": 7,
     "metadata": {},
     "output_type": "execute_result"
    }
   ],
   "source": [
    "# NT_GER\n",
    "enade.NT_GER.describe()"
   ]
  },
  {
   "cell_type": "code",
   "execution_count": 8,
   "metadata": {},
   "outputs": [
    {
     "data": {
      "text/plain": [
       "43839"
      ]
     },
     "execution_count": 8,
     "metadata": {},
     "output_type": "execute_result"
    }
   ],
   "source": [
    "# Contar o número de nulos\n",
    "enade.NT_GER.isnull().sum()"
   ]
  },
  {
   "cell_type": "code",
   "execution_count": 9,
   "metadata": {},
   "outputs": [
    {
     "data": {
      "text/plain": [
       "0.10102781554628627"
      ]
     },
     "execution_count": 9,
     "metadata": {},
     "output_type": "execute_result"
    }
   ],
   "source": [
    "# quantidade relativa de nulos \n",
    "enade.NT_GER.isnull().sum() / enade.shape[0]"
   ]
  },
  {
   "cell_type": "code",
   "execution_count": 10,
   "metadata": {},
   "outputs": [
    {
     "data": {
      "text/plain": [
       "(433930, 137)"
      ]
     },
     "execution_count": 10,
     "metadata": {},
     "output_type": "execute_result"
    }
   ],
   "source": [
    "enade.shape"
   ]
  },
  {
   "cell_type": "code",
   "execution_count": 14,
   "metadata": {},
   "outputs": [
    {
     "data": {
      "text/plain": [
       "count    30769.000000\n",
       "mean        44.604609\n",
       "std         14.489081\n",
       "min          0.000000\n",
       "25%         33.900000\n",
       "50%         44.500000\n",
       "75%         55.300000\n",
       "max         91.600000\n",
       "Name: NT_GER, dtype: float64"
      ]
     },
     "execution_count": 14,
     "metadata": {},
     "output_type": "execute_result"
    }
   ],
   "source": [
    "# Acessando estatística descritivas da NOTA GERAL\n",
    "# Apenas para os alunas da Região = 5 (Centro Oeste)\n",
    "enade.loc[\n",
    "    enade.CO_REGIAO_CURSO == 5\n",
    "].NT_GER.describe()"
   ]
  },
  {
   "cell_type": "code",
   "execution_count": 15,
   "metadata": {},
   "outputs": [
    {
     "data": {
      "text/plain": [
       "count    389730.000000\n",
       "mean         44.117437\n",
       "std          14.486758\n",
       "min           0.300000\n",
       "25%          33.300000\n",
       "50%          43.800000\n",
       "75%          54.800000\n",
       "max          93.000000\n",
       "Name: NT_GER, dtype: float64"
      ]
     },
     "execution_count": 15,
     "metadata": {},
     "output_type": "execute_result"
    }
   ],
   "source": [
    "# Calculando estatística descritivas apenas para alunos \n",
    "# com NOTAS maior do que zero\n",
    "enade.loc[\n",
    "    enade.NT_GER > 0\n",
    "].NT_GER.describe()"
   ]
  },
  {
   "cell_type": "code",
   "execution_count": 18,
   "metadata": {},
   "outputs": [
    {
     "data": {
      "text/plain": [
       "429019"
      ]
     },
     "execution_count": 18,
     "metadata": {},
     "output_type": "execute_result"
    }
   ],
   "source": [
    "# Filtando alunos apenas entre 20 e 50 anos \n",
    "enade.loc[\n",
    "    (enade.NU_IDADE >= 20) &\n",
    "    (enade.NU_IDADE <= 50)\n",
    "].shape[0]"
   ]
  },
  {
   "cell_type": "code",
   "execution_count": 19,
   "metadata": {},
   "outputs": [
    {
     "data": {
      "text/plain": [
       "count    385913.000000\n",
       "mean         44.149504\n",
       "std          14.528106\n",
       "min           0.000000\n",
       "25%          33.300000\n",
       "50%          43.900000\n",
       "75%          54.800000\n",
       "max          93.000000\n",
       "Name: NT_GER, dtype: float64"
      ]
     },
     "execution_count": 19,
     "metadata": {},
     "output_type": "execute_result"
    }
   ],
   "source": [
    "enade.loc[\n",
    "    (enade.NU_IDADE >= 20) &\n",
    "    (enade.NU_IDADE <= 50)\n",
    "].NT_GER.describe()"
   ]
  },
  {
   "cell_type": "code",
   "execution_count": 20,
   "metadata": {},
   "outputs": [
    {
     "data": {
      "text/plain": [
       "F    233279\n",
       "M    200651\n",
       "Name: TP_SEXO, dtype: int64"
      ]
     },
     "execution_count": 20,
     "metadata": {},
     "output_type": "execute_result"
    }
   ],
   "source": [
    "# Tabela cruzada\n",
    "# Contar quantos homens e mulhes \n",
    "enade.TP_SEXO.value_counts()"
   ]
  },
  {
   "cell_type": "code",
   "execution_count": 21,
   "metadata": {},
   "outputs": [
    {
     "data": {
      "text/plain": [
       "F    0.537596\n",
       "M    0.462404\n",
       "Name: TP_SEXO, dtype: float64"
      ]
     },
     "execution_count": 21,
     "metadata": {},
     "output_type": "execute_result"
    }
   ],
   "source": [
    "# Tabela cruzada\n",
    "# Contar quantos homens e mulhes \n",
    "# valores absolutos \n",
    "enade.TP_SEXO.value_counts() / enade.shape[0]"
   ]
  },
  {
   "cell_type": "code",
   "execution_count": 24,
   "metadata": {},
   "outputs": [
    {
     "data": {
      "text/html": [
       "<div>\n",
       "<style scoped>\n",
       "    .dataframe tbody tr th:only-of-type {\n",
       "        vertical-align: middle;\n",
       "    }\n",
       "\n",
       "    .dataframe tbody tr th {\n",
       "        vertical-align: top;\n",
       "    }\n",
       "\n",
       "    .dataframe thead th {\n",
       "        text-align: right;\n",
       "    }\n",
       "</style>\n",
       "<table border=\"1\" class=\"dataframe\">\n",
       "  <thead>\n",
       "    <tr style=\"text-align: right;\">\n",
       "      <th></th>\n",
       "      <th>NT_GER</th>\n",
       "      <th>NT_FG</th>\n",
       "      <th>NT_CE</th>\n",
       "    </tr>\n",
       "  </thead>\n",
       "  <tbody>\n",
       "    <tr>\n",
       "      <th>count</th>\n",
       "      <td>390091.000000</td>\n",
       "      <td>390091.000000</td>\n",
       "      <td>390091.000000</td>\n",
       "    </tr>\n",
       "    <tr>\n",
       "      <th>mean</th>\n",
       "      <td>44.076610</td>\n",
       "      <td>39.837949</td>\n",
       "      <td>45.472874</td>\n",
       "    </tr>\n",
       "    <tr>\n",
       "      <th>std</th>\n",
       "      <td>14.542059</td>\n",
       "      <td>16.241178</td>\n",
       "      <td>16.641654</td>\n",
       "    </tr>\n",
       "    <tr>\n",
       "      <th>min</th>\n",
       "      <td>0.000000</td>\n",
       "      <td>0.000000</td>\n",
       "      <td>0.000000</td>\n",
       "    </tr>\n",
       "    <tr>\n",
       "      <th>25%</th>\n",
       "      <td>33.200000</td>\n",
       "      <td>28.500000</td>\n",
       "      <td>32.900000</td>\n",
       "    </tr>\n",
       "    <tr>\n",
       "      <th>50%</th>\n",
       "      <td>43.800000</td>\n",
       "      <td>39.300000</td>\n",
       "      <td>45.200000</td>\n",
       "    </tr>\n",
       "    <tr>\n",
       "      <th>75%</th>\n",
       "      <td>54.800000</td>\n",
       "      <td>51.300000</td>\n",
       "      <td>57.800000</td>\n",
       "    </tr>\n",
       "    <tr>\n",
       "      <th>max</th>\n",
       "      <td>93.000000</td>\n",
       "      <td>97.800000</td>\n",
       "      <td>100.000000</td>\n",
       "    </tr>\n",
       "  </tbody>\n",
       "</table>\n",
       "</div>"
      ],
      "text/plain": [
       "              NT_GER          NT_FG          NT_CE\n",
       "count  390091.000000  390091.000000  390091.000000\n",
       "mean       44.076610      39.837949      45.472874\n",
       "std        14.542059      16.241178      16.641654\n",
       "min         0.000000       0.000000       0.000000\n",
       "25%        33.200000      28.500000      32.900000\n",
       "50%        43.800000      39.300000      45.200000\n",
       "75%        54.800000      51.300000      57.800000\n",
       "max        93.000000      97.800000     100.000000"
      ]
     },
     "execution_count": 24,
     "metadata": {},
     "output_type": "execute_result"
    }
   ],
   "source": [
    "# Comparar Regiões por NOTAS\n",
    "# Agregar utilizando uma média \n",
    "enade[['NT_GER', 'NT_FG', 'NT_CE']].describe()"
   ]
  },
  {
   "cell_type": "code",
   "execution_count": 26,
   "metadata": {},
   "outputs": [
    {
     "data": {
      "text/html": [
       "<div>\n",
       "<style scoped>\n",
       "    .dataframe tbody tr th:only-of-type {\n",
       "        vertical-align: middle;\n",
       "    }\n",
       "\n",
       "    .dataframe tbody tr th {\n",
       "        vertical-align: top;\n",
       "    }\n",
       "\n",
       "    .dataframe thead th {\n",
       "        text-align: right;\n",
       "    }\n",
       "</style>\n",
       "<table border=\"1\" class=\"dataframe\">\n",
       "  <thead>\n",
       "    <tr style=\"text-align: right;\">\n",
       "      <th></th>\n",
       "      <th>NT_GER</th>\n",
       "      <th>NT_FG</th>\n",
       "      <th>NT_CE</th>\n",
       "    </tr>\n",
       "    <tr>\n",
       "      <th>CO_REGIAO_CURSO</th>\n",
       "      <th></th>\n",
       "      <th></th>\n",
       "      <th></th>\n",
       "    </tr>\n",
       "  </thead>\n",
       "  <tbody>\n",
       "    <tr>\n",
       "      <th>1</th>\n",
       "      <td>40.282753</td>\n",
       "      <td>37.119037</td>\n",
       "      <td>41.320522</td>\n",
       "    </tr>\n",
       "    <tr>\n",
       "      <th>2</th>\n",
       "      <td>43.788555</td>\n",
       "      <td>40.057649</td>\n",
       "      <td>45.015455</td>\n",
       "    </tr>\n",
       "    <tr>\n",
       "      <th>3</th>\n",
       "      <td>44.016319</td>\n",
       "      <td>40.144793</td>\n",
       "      <td>45.290297</td>\n",
       "    </tr>\n",
       "    <tr>\n",
       "      <th>4</th>\n",
       "      <td>45.747187</td>\n",
       "      <td>40.082428</td>\n",
       "      <td>47.618845</td>\n",
       "    </tr>\n",
       "    <tr>\n",
       "      <th>5</th>\n",
       "      <td>44.604609</td>\n",
       "      <td>39.180022</td>\n",
       "      <td>46.396032</td>\n",
       "    </tr>\n",
       "  </tbody>\n",
       "</table>\n",
       "</div>"
      ],
      "text/plain": [
       "                    NT_GER      NT_FG      NT_CE\n",
       "CO_REGIAO_CURSO                                 \n",
       "1                40.282753  37.119037  41.320522\n",
       "2                43.788555  40.057649  45.015455\n",
       "3                44.016319  40.144793  45.290297\n",
       "4                45.747187  40.082428  47.618845\n",
       "5                44.604609  39.180022  46.396032"
      ]
     },
     "execution_count": 26,
     "metadata": {},
     "output_type": "execute_result"
    }
   ],
   "source": [
    "# Comparar médias de Notas para cada região do Brasil\n",
    "enade.groupby('CO_REGIAO_CURSO').agg({\n",
    "    'NT_GER': 'mean',\n",
    "    'NT_FG': 'mean',\n",
    "    'NT_CE': 'mean',\n",
    "})"
   ]
  },
  {
   "cell_type": "markdown",
   "metadata": {},
   "source": [
    "# Transformações"
   ]
  },
  {
   "cell_type": "markdown",
   "metadata": {},
   "source": [
    "- CO_IES\n",
    "- CO_CATEGAD\n",
    "- CO_GRUPO\n",
    "- CO_MODALIDADE\n",
    "- CO_UF_CURSO\n",
    "- CO_REGIAO_CURSO\n",
    "- NU_IDADE\n",
    "- TP_SEXO\n",
    "- NT_GER\n",
    "- NT_FG\n",
    "- NT_CE"
   ]
  },
  {
   "cell_type": "code",
   "execution_count": 27,
   "metadata": {},
   "outputs": [],
   "source": [
    "enade['DESC_PUBLICA'] = \"\"\n",
    "enade.loc[\n",
    "    enade.CO_CATEGAD.isin([118, 120, 121, 10005, 10006, 10007, 10008, 10009, 17634]),\n",
    "    'DESC_PUBLICA'\n",
    "] = \"Privado\""
   ]
  },
  {
   "cell_type": "code",
   "execution_count": 28,
   "metadata": {},
   "outputs": [],
   "source": [
    "enade.loc[\n",
    "    enade.CO_CATEGAD.isin([93, 115, 116, 10001, 10002, 10003]),\n",
    "    'DESC_PUBLICA'\n",
    "] = \"Publico\""
   ]
  },
  {
   "cell_type": "code",
   "execution_count": 32,
   "metadata": {},
   "outputs": [
    {
     "data": {
      "text/plain": [
       "Privado    332879\n",
       "Publico    101051\n",
       "Name: DESC_PUBLICA, dtype: int64"
      ]
     },
     "execution_count": 32,
     "metadata": {},
     "output_type": "execute_result"
    }
   ],
   "source": [
    "enade.DESC_PUBLICA.value_counts()"
   ]
  },
  {
   "cell_type": "code",
   "execution_count": 33,
   "metadata": {},
   "outputs": [
    {
     "data": {
      "text/plain": [
       "Privado    0.767126\n",
       "Publico    0.232874\n",
       "Name: DESC_PUBLICA, dtype: float64"
      ]
     },
     "execution_count": 33,
     "metadata": {},
     "output_type": "execute_result"
    }
   ],
   "source": [
    "enade.DESC_PUBLICA.value_counts() / enade.shape[0]"
   ]
  },
  {
   "cell_type": "code",
   "execution_count": 34,
   "metadata": {},
   "outputs": [
    {
     "data": {
      "text/plain": [
       "1    410542\n",
       "0     23388\n",
       "Name: CO_MODALIDADE, dtype: int64"
      ]
     },
     "execution_count": 34,
     "metadata": {},
     "output_type": "execute_result"
    }
   ],
   "source": [
    "# Transformar a Modalidade\n",
    "enade.CO_MODALIDADE.value_counts()"
   ]
  },
  {
   "cell_type": "code",
   "execution_count": 35,
   "metadata": {},
   "outputs": [
    {
     "data": {
      "text/plain": [
       "1    0.946102\n",
       "0    0.053898\n",
       "Name: CO_MODALIDADE, dtype: float64"
      ]
     },
     "execution_count": 35,
     "metadata": {},
     "output_type": "execute_result"
    }
   ],
   "source": [
    "# Transformar a Modalidade\n",
    "enade.CO_MODALIDADE.value_counts() / enade.CO_MODALIDADE.shape[0]"
   ]
  },
  {
   "cell_type": "code",
   "execution_count": 36,
   "metadata": {},
   "outputs": [
    {
     "data": {
      "text/plain": [
       "0         Presencial\n",
       "1         Presencial\n",
       "2         Presencial\n",
       "3         Presencial\n",
       "4         Presencial\n",
       "             ...    \n",
       "433925    Presencial\n",
       "433926    Presencial\n",
       "433927    Presencial\n",
       "433928    Presencial\n",
       "433929    Presencial\n",
       "Name: CO_MODALIDADE, Length: 433930, dtype: object"
      ]
     },
     "execution_count": 36,
     "metadata": {},
     "output_type": "execute_result"
    }
   ],
   "source": [
    "enade.CO_MODALIDADE.replace({\n",
    "    0: 'EaD',\n",
    "    1: 'Presencial'\n",
    "})"
   ]
  },
  {
   "cell_type": "code",
   "execution_count": 37,
   "metadata": {},
   "outputs": [
    {
     "data": {
      "text/plain": [
       "1    410542\n",
       "0     23388\n",
       "Name: CO_MODALIDADE, dtype: int64"
      ]
     },
     "execution_count": 37,
     "metadata": {},
     "output_type": "execute_result"
    }
   ],
   "source": [
    "# com o código acima não houve a atribuição de valores \n",
    "enade.CO_MODALIDADE.value_counts()"
   ]
  },
  {
   "cell_type": "code",
   "execution_count": 38,
   "metadata": {},
   "outputs": [],
   "source": [
    "enade['CO_MODALIDADE'] = enade.CO_MODALIDADE.replace({\n",
    "                                            0: 'EaD',\n",
    "                                            1: 'Presencial'\n",
    "                                        })"
   ]
  },
  {
   "cell_type": "code",
   "execution_count": 39,
   "metadata": {},
   "outputs": [
    {
     "data": {
      "text/plain": [
       "Presencial    410542\n",
       "EaD            23388\n",
       "Name: CO_MODALIDADE, dtype: int64"
      ]
     },
     "execution_count": 39,
     "metadata": {},
     "output_type": "execute_result"
    }
   ],
   "source": [
    "# Agora a atribuição foi realizada\n",
    "enade.CO_MODALIDADE.value_counts()"
   ]
  },
  {
   "cell_type": "code",
   "execution_count": 44,
   "metadata": {},
   "outputs": [],
   "source": [
    "# Transforma Região\n",
    "enade['CO_REGIAO_CURSO'] = enade.CO_REGIAO_CURSO.replace({\n",
    "                                        1: 'Norte',\n",
    "                                        2: 'Nordeste',\n",
    "                                        3: 'Sudeste',\n",
    "                                        4: 'Sul',\n",
    "                                        5: 'Centro-Oeste'\n",
    "                                    })"
   ]
  },
  {
   "cell_type": "code",
   "execution_count": 45,
   "metadata": {},
   "outputs": [
    {
     "data": {
      "text/plain": [
       "Sudeste         202505\n",
       "Nordeste         91742\n",
       "Sul              76788\n",
       "Centro-Oeste     34192\n",
       "Norte            28703\n",
       "Name: CO_REGIAO_CURSO, dtype: int64"
      ]
     },
     "execution_count": 45,
     "metadata": {},
     "output_type": "execute_result"
    }
   ],
   "source": [
    "enade.CO_REGIAO_CURSO.value_counts()"
   ]
  },
  {
   "cell_type": "code",
   "execution_count": 46,
   "metadata": {},
   "outputs": [
    {
     "data": {
      "text/plain": [
       "Sudeste         0.466677\n",
       "Nordeste        0.211421\n",
       "Sul             0.176959\n",
       "Centro-Oeste    0.078796\n",
       "Norte           0.066147\n",
       "Name: CO_REGIAO_CURSO, dtype: float64"
      ]
     },
     "execution_count": 46,
     "metadata": {},
     "output_type": "execute_result"
    }
   ],
   "source": [
    "enade.CO_REGIAO_CURSO.value_counts() / enade.CO_REGIAO_CURSO.shape[0]"
   ]
  },
  {
   "cell_type": "code",
   "execution_count": 48,
   "metadata": {},
   "outputs": [
    {
     "data": {
      "text/plain": [
       "{'A': 220386,\n",
       " 'D': 135770,\n",
       " 'B': 32869,\n",
       " ' ': 26056,\n",
       " 'C': 10093,\n",
       " 'F': 7456,\n",
       " 'E': 1300}"
      ]
     },
     "execution_count": 48,
     "metadata": {},
     "output_type": "execute_result"
    }
   ],
   "source": [
    "# Analisando a variável Cor / Raça\n",
    "dict(enade.QE_I02.value_counts())"
   ]
  },
  {
   "cell_type": "code",
   "execution_count": 49,
   "metadata": {},
   "outputs": [],
   "source": [
    "# Transformando Cor / Raça\n",
    "enade['DESC_COR'] = enade.QE_I02.replace({\n",
    "    'A': 'Branca',\n",
    "    'B': 'Preta',\n",
    "    'C': 'Amarela',\n",
    "    'D': 'Parda',\n",
    "    'E': 'Indigena',\n",
    "    'F': pd.NA,\n",
    "    ' ': pd.NA\n",
    "    \n",
    "})"
   ]
  },
  {
   "cell_type": "code",
   "execution_count": 51,
   "metadata": {},
   "outputs": [
    {
     "data": {
      "text/plain": [
       "{'Branca': 220386,\n",
       " 'Parda': 135770,\n",
       " 'Preta': 32869,\n",
       " 'Amarela': 10093,\n",
       " 'Indigena': 1300}"
      ]
     },
     "execution_count": 51,
     "metadata": {},
     "output_type": "execute_result"
    }
   ],
   "source": [
    "# Analisando a variável Cor / Raça - após transformação\n",
    "dict(enade.DESC_COR.value_counts())"
   ]
  },
  {
   "cell_type": "markdown",
   "metadata": {},
   "source": [
    "# Algumas perguntas para responder"
   ]
  },
  {
   "cell_type": "markdown",
   "metadata": {},
   "source": [
    "### 1 - Qual a nota geral média dos alunos da região nordeste?"
   ]
  },
  {
   "cell_type": "code",
   "execution_count": 53,
   "metadata": {},
   "outputs": [
    {
     "data": {
      "text/html": [
       "<div>\n",
       "<style scoped>\n",
       "    .dataframe tbody tr th:only-of-type {\n",
       "        vertical-align: middle;\n",
       "    }\n",
       "\n",
       "    .dataframe tbody tr th {\n",
       "        vertical-align: top;\n",
       "    }\n",
       "\n",
       "    .dataframe thead th {\n",
       "        text-align: right;\n",
       "    }\n",
       "</style>\n",
       "<table border=\"1\" class=\"dataframe\">\n",
       "  <thead>\n",
       "    <tr style=\"text-align: right;\">\n",
       "      <th></th>\n",
       "      <th>NT_GER</th>\n",
       "    </tr>\n",
       "    <tr>\n",
       "      <th>CO_REGIAO_CURSO</th>\n",
       "      <th></th>\n",
       "    </tr>\n",
       "  </thead>\n",
       "  <tbody>\n",
       "    <tr>\n",
       "      <th>Nordeste</th>\n",
       "      <td>43.788555</td>\n",
       "    </tr>\n",
       "  </tbody>\n",
       "</table>\n",
       "</div>"
      ],
      "text/plain": [
       "                    NT_GER\n",
       "CO_REGIAO_CURSO           \n",
       "Nordeste         43.788555"
      ]
     },
     "execution_count": 53,
     "metadata": {},
     "output_type": "execute_result"
    }
   ],
   "source": [
    "# Primeira forma de resolver\n",
    "enade.loc[enade.CO_REGIAO_CURSO == 'Nordeste'].groupby('CO_REGIAO_CURSO').agg({\n",
    "    'NT_GER': 'mean'\n",
    "})"
   ]
  },
  {
   "cell_type": "code",
   "execution_count": 54,
   "metadata": {},
   "outputs": [
    {
     "data": {
      "text/plain": [
       "43.78855492862657"
      ]
     },
     "execution_count": 54,
     "metadata": {},
     "output_type": "execute_result"
    }
   ],
   "source": [
    "# Segunda forma de resolver\n",
    "enade.loc[\n",
    "    enade.CO_REGIAO_CURSO == 'Nordeste',\n",
    "    'NT_GER'\n",
    "].mean()"
   ]
  },
  {
   "cell_type": "markdown",
   "metadata": {},
   "source": [
    "### 2 - Qual é a média da nota do componente específico do Rio Grande do Sul de cursos de Engenharia Elétrica?"
   ]
  },
  {
   "cell_type": "code",
   "execution_count": 55,
   "metadata": {},
   "outputs": [
    {
     "data": {
      "text/plain": [
       "34.79692671394829"
      ]
     },
     "execution_count": 55,
     "metadata": {},
     "output_type": "execute_result"
    }
   ],
   "source": [
    "# Primeira forma de resolver\n",
    "enade.loc[\n",
    "    (enade.CO_UF_CURSO == 43) & \n",
    "    (enade.CO_GRUPO == 5806),\n",
    "    'NT_CE'\n",
    "].mean()"
   ]
  },
  {
   "cell_type": "code",
   "execution_count": 63,
   "metadata": {},
   "outputs": [
    {
     "data": {
      "text/html": [
       "<div>\n",
       "<style scoped>\n",
       "    .dataframe tbody tr th:only-of-type {\n",
       "        vertical-align: middle;\n",
       "    }\n",
       "\n",
       "    .dataframe tbody tr th {\n",
       "        vertical-align: top;\n",
       "    }\n",
       "\n",
       "    .dataframe thead th {\n",
       "        text-align: right;\n",
       "    }\n",
       "</style>\n",
       "<table border=\"1\" class=\"dataframe\">\n",
       "  <thead>\n",
       "    <tr style=\"text-align: right;\">\n",
       "      <th></th>\n",
       "      <th></th>\n",
       "      <th>NT_CE</th>\n",
       "    </tr>\n",
       "    <tr>\n",
       "      <th>CO_GRUPO</th>\n",
       "      <th>CO_UF_CURSO</th>\n",
       "      <th></th>\n",
       "    </tr>\n",
       "  </thead>\n",
       "  <tbody>\n",
       "    <tr>\n",
       "      <th>5806</th>\n",
       "      <th>43</th>\n",
       "      <td>34.796927</td>\n",
       "    </tr>\n",
       "  </tbody>\n",
       "</table>\n",
       "</div>"
      ],
      "text/plain": [
       "                          NT_CE\n",
       "CO_GRUPO CO_UF_CURSO           \n",
       "5806     43           34.796927"
      ]
     },
     "execution_count": 63,
     "metadata": {},
     "output_type": "execute_result"
    }
   ],
   "source": [
    "enade.loc[(enade.CO_UF_CURSO == 43) & \n",
    "          (enade.CO_GRUPO == 5806)].groupby(['CO_GRUPO', 'CO_UF_CURSO']).agg({\n",
    "    'NT_CE': 'mean'\n",
    "})"
   ]
  },
  {
   "cell_type": "code",
   "execution_count": 64,
   "metadata": {},
   "outputs": [
    {
     "data": {
      "text/plain": [
       "NT_CE    34.796927\n",
       "dtype: float64"
      ]
     },
     "execution_count": 64,
     "metadata": {},
     "output_type": "execute_result"
    }
   ],
   "source": [
    "enade.loc[(enade.CO_UF_CURSO == 43) & \n",
    "          (enade.CO_GRUPO == 5806)].agg({\n",
    "    'NT_CE': 'mean'\n",
    "})"
   ]
  },
  {
   "cell_type": "markdown",
   "metadata": {},
   "source": [
    "### Qual é a média do componente de alunas do sexo feminino, pardas, de Minas Gerais em cursos presenciais de Engenharia de produção"
   ]
  },
  {
   "cell_type": "code",
   "execution_count": 71,
   "metadata": {},
   "outputs": [
    {
     "data": {
      "text/plain": [
       "40.19142394822005"
      ]
     },
     "execution_count": 71,
     "metadata": {},
     "output_type": "execute_result"
    }
   ],
   "source": [
    "enade.loc[\n",
    "    (enade.TP_SEXO == 'F') &\n",
    "    (enade.DESC_COR == 'Parda') &\n",
    "    (enade.CO_UF_CURSO == 31) &    \n",
    "    (enade.CO_MODALIDADE == 'Presencial') &\n",
    "    (enade.CO_GRUPO == 6208),\n",
    "    'NT_FG'\n",
    "].mean()"
   ]
  },
  {
   "cell_type": "code",
   "execution_count": 73,
   "metadata": {},
   "outputs": [
    {
     "data": {
      "text/plain": [
       "NT_FG    40.191424\n",
       "dtype: float64"
      ]
     },
     "execution_count": 73,
     "metadata": {},
     "output_type": "execute_result"
    }
   ],
   "source": [
    "enade.loc[\n",
    "    (enade.TP_SEXO == 'F') &\n",
    "    (enade.DESC_COR == 'Parda') &\n",
    "    (enade.CO_UF_CURSO == 31) &    \n",
    "    (enade.CO_MODALIDADE == 'Presencial') &\n",
    "    (enade.CO_GRUPO == 6208)].agg({\n",
    "        'NT_FG': 'mean'\n",
    "    })   "
   ]
  },
  {
   "cell_type": "code",
   "execution_count": 74,
   "metadata": {},
   "outputs": [
    {
     "data": {
      "text/html": [
       "<div>\n",
       "<style scoped>\n",
       "    .dataframe tbody tr th:only-of-type {\n",
       "        vertical-align: middle;\n",
       "    }\n",
       "\n",
       "    .dataframe tbody tr th {\n",
       "        vertical-align: top;\n",
       "    }\n",
       "\n",
       "    .dataframe thead th {\n",
       "        text-align: right;\n",
       "    }\n",
       "</style>\n",
       "<table border=\"1\" class=\"dataframe\">\n",
       "  <thead>\n",
       "    <tr style=\"text-align: right;\">\n",
       "      <th></th>\n",
       "      <th></th>\n",
       "      <th></th>\n",
       "      <th></th>\n",
       "      <th></th>\n",
       "      <th>NT_FG</th>\n",
       "    </tr>\n",
       "    <tr>\n",
       "      <th>TP_SEXO</th>\n",
       "      <th>DESC_COR</th>\n",
       "      <th>CO_UF_CURSO</th>\n",
       "      <th>CO_MODALIDADE</th>\n",
       "      <th>CO_GRUPO</th>\n",
       "      <th></th>\n",
       "    </tr>\n",
       "  </thead>\n",
       "  <tbody>\n",
       "    <tr>\n",
       "      <th>F</th>\n",
       "      <th>Parda</th>\n",
       "      <th>31</th>\n",
       "      <th>Presencial</th>\n",
       "      <th>6208</th>\n",
       "      <td>40.191424</td>\n",
       "    </tr>\n",
       "  </tbody>\n",
       "</table>\n",
       "</div>"
      ],
      "text/plain": [
       "                                                         NT_FG\n",
       "TP_SEXO DESC_COR CO_UF_CURSO CO_MODALIDADE CO_GRUPO           \n",
       "F       Parda    31          Presencial    6208      40.191424"
      ]
     },
     "execution_count": 74,
     "metadata": {},
     "output_type": "execute_result"
    }
   ],
   "source": [
    "enade.loc[(enade.TP_SEXO == 'F') &\n",
    "          (enade.DESC_COR == 'Parda') &\n",
    "          (enade.CO_UF_CURSO == 31) &    \n",
    "          (enade.CO_MODALIDADE == 'Presencial') &\n",
    "          (enade.CO_GRUPO == 6208)].groupby(['TP_SEXO', \n",
    "                                             'DESC_COR',\n",
    "                                             'CO_UF_CURSO',\n",
    "                                             'CO_MODALIDADE',\n",
    "                                             'CO_GRUPO']).agg({\n",
    "    'NT_FG': 'mean'\n",
    "})"
   ]
  },
  {
   "cell_type": "code",
   "execution_count": null,
   "metadata": {},
   "outputs": [],
   "source": []
  }
 ],
 "metadata": {
  "kernelspec": {
   "display_name": "Python 3",
   "language": "python",
   "name": "python3"
  },
  "language_info": {
   "codemirror_mode": {
    "name": "ipython",
    "version": 3
   },
   "file_extension": ".py",
   "mimetype": "text/x-python",
   "name": "python",
   "nbconvert_exporter": "python",
   "pygments_lexer": "ipython3",
   "version": "3.8.5"
  }
 },
 "nbformat": 4,
 "nbformat_minor": 4
}
