{
 "cells": [
  {
   "cell_type": "markdown",
   "metadata": {},
   "source": [
    "# Prática - Modulo 1 - IGTI - Data Engineering"
   ]
  },
  {
   "cell_type": "markdown",
   "metadata": {},
   "source": [
    "### Autor: Thomaz Antonio Rossito Neto                                        \n",
    "### LinkedIn: [clique aqui](https://www.linkedin.com/in/thomaz-antonio-rossito-neto/)"
   ]
  },
  {
   "cell_type": "markdown",
   "metadata": {},
   "source": [
    "<img src=\"https://notiserrasc.com.br/wp-content/uploads/2019/10/enem2019-680x350.jpg\">"
   ]
  },
  {
   "cell_type": "markdown",
   "metadata": {},
   "source": [
    "## - Parte 2: Data_Exploratory"
   ]
  },
  {
   "cell_type": "markdown",
   "metadata": {},
   "source": [
    "#### - Observação: Toda explicação sobre o projeto, pode ser encontrado no arquivo (01-Extract.ipynb) - Parte 1: Extract"
   ]
  },
  {
   "cell_type": "markdown",
   "metadata": {},
   "source": [
    "## - Inínio do Trabalho"
   ]
  },
  {
   "cell_type": "markdown",
   "metadata": {},
   "source": [
    "### 1. Carregando as bibliotecas"
   ]
  },
  {
   "cell_type": "code",
   "execution_count": 1,
   "metadata": {},
   "outputs": [],
   "source": [
    "import pandas as pd\n",
    "import numpy as np\n",
    "import os"
   ]
  },
  {
   "cell_type": "markdown",
   "metadata": {},
   "source": [
    "### 2. Carregando o dataset com o pandas "
   ]
  },
  {
   "cell_type": "markdown",
   "metadata": {},
   "source": [
    "#### - O arquivo com alunos de MG contém 336.8MB"
   ]
  },
  {
   "cell_type": "code",
   "execution_count": 2,
   "metadata": {},
   "outputs": [
    {
     "name": "stdout",
     "output_type": "stream",
     "text": [
      "shape:  (538896, 136)\n",
      "\n",
      "<class 'pandas.core.frame.DataFrame'>\n",
      "RangeIndex: 538896 entries, 0 to 538895\n",
      "Columns: 136 entries, NU_INSCRICAO to Q025\n",
      "dtypes: float64(24), int64(71), object(41)\n",
      "memory usage: 559.2+ MB\n",
      "\n"
     ]
    },
    {
     "data": {
      "text/html": [
       "<div>\n",
       "<style scoped>\n",
       "    .dataframe tbody tr th:only-of-type {\n",
       "        vertical-align: middle;\n",
       "    }\n",
       "\n",
       "    .dataframe tbody tr th {\n",
       "        vertical-align: top;\n",
       "    }\n",
       "\n",
       "    .dataframe thead th {\n",
       "        text-align: right;\n",
       "    }\n",
       "</style>\n",
       "<table border=\"1\" class=\"dataframe\">\n",
       "  <thead>\n",
       "    <tr style=\"text-align: right;\">\n",
       "      <th></th>\n",
       "      <th>NU_INSCRICAO</th>\n",
       "      <th>NU_ANO</th>\n",
       "      <th>CO_MUNICIPIO_RESIDENCIA</th>\n",
       "      <th>NO_MUNICIPIO_RESIDENCIA</th>\n",
       "      <th>CO_UF_RESIDENCIA</th>\n",
       "      <th>SG_UF_RESIDENCIA</th>\n",
       "      <th>NU_IDADE</th>\n",
       "      <th>TP_SEXO</th>\n",
       "      <th>TP_ESTADO_CIVIL</th>\n",
       "      <th>TP_COR_RACA</th>\n",
       "      <th>...</th>\n",
       "      <th>Q016</th>\n",
       "      <th>Q017</th>\n",
       "      <th>Q018</th>\n",
       "      <th>Q019</th>\n",
       "      <th>Q020</th>\n",
       "      <th>Q021</th>\n",
       "      <th>Q022</th>\n",
       "      <th>Q023</th>\n",
       "      <th>Q024</th>\n",
       "      <th>Q025</th>\n",
       "    </tr>\n",
       "  </thead>\n",
       "  <tbody>\n",
       "    <tr>\n",
       "      <th>0</th>\n",
       "      <td>190001005671</td>\n",
       "      <td>2019</td>\n",
       "      <td>3170206</td>\n",
       "      <td>Uberlândia</td>\n",
       "      <td>31</td>\n",
       "      <td>MG</td>\n",
       "      <td>21</td>\n",
       "      <td>M</td>\n",
       "      <td>1</td>\n",
       "      <td>1</td>\n",
       "      <td>...</td>\n",
       "      <td>B</td>\n",
       "      <td>A</td>\n",
       "      <td>A</td>\n",
       "      <td>D</td>\n",
       "      <td>A</td>\n",
       "      <td>A</td>\n",
       "      <td>D</td>\n",
       "      <td>B</td>\n",
       "      <td>B</td>\n",
       "      <td>B</td>\n",
       "    </tr>\n",
       "    <tr>\n",
       "      <th>1</th>\n",
       "      <td>190001009861</td>\n",
       "      <td>2019</td>\n",
       "      <td>3111705</td>\n",
       "      <td>Canaã</td>\n",
       "      <td>31</td>\n",
       "      <td>MG</td>\n",
       "      <td>20</td>\n",
       "      <td>M</td>\n",
       "      <td>1</td>\n",
       "      <td>1</td>\n",
       "      <td>...</td>\n",
       "      <td>A</td>\n",
       "      <td>A</td>\n",
       "      <td>A</td>\n",
       "      <td>B</td>\n",
       "      <td>A</td>\n",
       "      <td>A</td>\n",
       "      <td>C</td>\n",
       "      <td>A</td>\n",
       "      <td>A</td>\n",
       "      <td>A</td>\n",
       "    </tr>\n",
       "    <tr>\n",
       "      <th>2</th>\n",
       "      <td>190001021622</td>\n",
       "      <td>2019</td>\n",
       "      <td>3104007</td>\n",
       "      <td>Araxá</td>\n",
       "      <td>31</td>\n",
       "      <td>MG</td>\n",
       "      <td>24</td>\n",
       "      <td>M</td>\n",
       "      <td>1</td>\n",
       "      <td>2</td>\n",
       "      <td>...</td>\n",
       "      <td>A</td>\n",
       "      <td>A</td>\n",
       "      <td>A</td>\n",
       "      <td>C</td>\n",
       "      <td>B</td>\n",
       "      <td>A</td>\n",
       "      <td>C</td>\n",
       "      <td>A</td>\n",
       "      <td>A</td>\n",
       "      <td>B</td>\n",
       "    </tr>\n",
       "    <tr>\n",
       "      <th>3</th>\n",
       "      <td>190001026636</td>\n",
       "      <td>2019</td>\n",
       "      <td>3106200</td>\n",
       "      <td>Belo Horizonte</td>\n",
       "      <td>31</td>\n",
       "      <td>MG</td>\n",
       "      <td>33</td>\n",
       "      <td>M</td>\n",
       "      <td>1</td>\n",
       "      <td>1</td>\n",
       "      <td>...</td>\n",
       "      <td>B</td>\n",
       "      <td>A</td>\n",
       "      <td>B</td>\n",
       "      <td>B</td>\n",
       "      <td>A</td>\n",
       "      <td>A</td>\n",
       "      <td>D</td>\n",
       "      <td>A</td>\n",
       "      <td>D</td>\n",
       "      <td>B</td>\n",
       "    </tr>\n",
       "    <tr>\n",
       "      <th>4</th>\n",
       "      <td>190001026742</td>\n",
       "      <td>2019</td>\n",
       "      <td>3162401</td>\n",
       "      <td>São João da Ponte</td>\n",
       "      <td>31</td>\n",
       "      <td>MG</td>\n",
       "      <td>23</td>\n",
       "      <td>M</td>\n",
       "      <td>1</td>\n",
       "      <td>3</td>\n",
       "      <td>...</td>\n",
       "      <td>A</td>\n",
       "      <td>A</td>\n",
       "      <td>A</td>\n",
       "      <td>B</td>\n",
       "      <td>B</td>\n",
       "      <td>A</td>\n",
       "      <td>C</td>\n",
       "      <td>A</td>\n",
       "      <td>B</td>\n",
       "      <td>A</td>\n",
       "    </tr>\n",
       "  </tbody>\n",
       "</table>\n",
       "<p>5 rows × 136 columns</p>\n",
       "</div>"
      ],
      "text/plain": [
       "   NU_INSCRICAO  NU_ANO  CO_MUNICIPIO_RESIDENCIA NO_MUNICIPIO_RESIDENCIA  \\\n",
       "0  190001005671    2019                  3170206              Uberlândia   \n",
       "1  190001009861    2019                  3111705                   Canaã   \n",
       "2  190001021622    2019                  3104007                   Araxá   \n",
       "3  190001026636    2019                  3106200          Belo Horizonte   \n",
       "4  190001026742    2019                  3162401       São João da Ponte   \n",
       "\n",
       "   CO_UF_RESIDENCIA SG_UF_RESIDENCIA  NU_IDADE TP_SEXO  TP_ESTADO_CIVIL  \\\n",
       "0                31               MG        21       M                1   \n",
       "1                31               MG        20       M                1   \n",
       "2                31               MG        24       M                1   \n",
       "3                31               MG        33       M                1   \n",
       "4                31               MG        23       M                1   \n",
       "\n",
       "   TP_COR_RACA  ...  Q016  Q017 Q018  Q019 Q020  Q021  Q022  Q023  Q024  Q025  \n",
       "0            1  ...     B     A    A     D    A     A     D     B     B     B  \n",
       "1            1  ...     A     A    A     B    A     A     C     A     A     A  \n",
       "2            2  ...     A     A    A     C    B     A     C     A     A     B  \n",
       "3            1  ...     B     A    B     B    A     A     D     A     D     B  \n",
       "4            3  ...     A     A    A     B    B     A     C     A     B     A  \n",
       "\n",
       "[5 rows x 136 columns]"
      ]
     },
     "execution_count": 2,
     "metadata": {},
     "output_type": "execute_result"
    }
   ],
   "source": [
    "# Carregando o dataset com (read_csv) do pandas\n",
    "df_enem_mg = pd.read_csv('enem2019/DADOS/MICRODADOS_ENEM_MG_2019.csv', sep=';', encoding='latin-1')\n",
    "\n",
    "# Visualizando o shape do dataset (100 linhas x 136 colunas)\n",
    "print(\"shape: \", df_enem_mg.shape)\n",
    "\n",
    "print()\n",
    "# Verificando os tipos de dados\n",
    "df_enem_mg.info()\n",
    "print()\n",
    "\n",
    "# Visualizando as primeiras linhas do dataset\n",
    "df_enem_mg.head()"
   ]
  },
  {
   "cell_type": "markdown",
   "metadata": {},
   "source": [
    "### 3. Respondendo algumas questões"
   ]
  },
  {
   "cell_type": "markdown",
   "metadata": {},
   "source": [
    "> ### Qual é a média da nota em matemática de todos os alunos mineiros?"
   ]
  },
  {
   "cell_type": "code",
   "execution_count": 3,
   "metadata": {},
   "outputs": [],
   "source": [
    "# Criando um objeto\n",
    "nota_matematica = df_enem_mg['NU_NOTA_MT']"
   ]
  },
  {
   "cell_type": "code",
   "execution_count": 4,
   "metadata": {},
   "outputs": [
    {
     "name": "stdout",
     "output_type": "stream",
     "text": [
      "A média da nota é: 546.8\n"
     ]
    }
   ],
   "source": [
    "# pandas\n",
    "print(\"A média da nota é: {}\" .format(round(nota_matematica.mean(),1)))"
   ]
  },
  {
   "cell_type": "code",
   "execution_count": 5,
   "metadata": {},
   "outputs": [
    {
     "name": "stdout",
     "output_type": "stream",
     "text": [
      "A média da nota é: 546.7962076512125\n"
     ]
    }
   ],
   "source": [
    "# numpy\n",
    "print(\"A média da nota é: {}\" .format(np.mean(nota_matematica)))"
   ]
  },
  {
   "cell_type": "markdown",
   "metadata": {},
   "source": [
    "> ### Qual é a média da nota de Linguagens e Códigos de todos os alunos mineiros?"
   ]
  },
  {
   "cell_type": "code",
   "execution_count": 7,
   "metadata": {},
   "outputs": [],
   "source": [
    "# Criando um objeto\n",
    "nota_linguagem_codigos = df_enem_mg['NU_NOTA_LC']"
   ]
  },
  {
   "cell_type": "code",
   "execution_count": 8,
   "metadata": {},
   "outputs": [
    {
     "name": "stdout",
     "output_type": "stream",
     "text": [
      "A média da nota é: 531.2155500475544\n"
     ]
    }
   ],
   "source": [
    "# pandas\n",
    "print(\"A média da nota é: {}\" .format(nota_linguagem_codigos.mean()))"
   ]
  },
  {
   "cell_type": "code",
   "execution_count": 9,
   "metadata": {},
   "outputs": [
    {
     "name": "stdout",
     "output_type": "stream",
     "text": [
      "A média da nota é: 531.2\n"
     ]
    }
   ],
   "source": [
    "# numpy\n",
    "print(\"A média da nota é: {}\" .format(round(np.mean(nota_linguagem_codigos),1)))"
   ]
  },
  {
   "cell_type": "markdown",
   "metadata": {},
   "source": [
    "> ### Qual é a média da nota em Ciências Humanas dos alunos do sexo FEMININO mineiros?"
   ]
  },
  {
   "cell_type": "code",
   "execution_count": 10,
   "metadata": {},
   "outputs": [],
   "source": [
    "# Criando um objeto\n",
    "nota_ch_f = df_enem_mg.loc[(df_enem_mg.TP_SEXO == 'F'),\n",
    "                           'NU_NOTA_CH']"
   ]
  },
  {
   "cell_type": "code",
   "execution_count": 11,
   "metadata": {},
   "outputs": [
    {
     "name": "stdout",
     "output_type": "stream",
     "text": [
      "A média da nota é: 515.1270983575349\n"
     ]
    }
   ],
   "source": [
    "# pandas\n",
    "print(\"A média da nota é: {}\" .format(nota_ch_f.mean()))"
   ]
  },
  {
   "cell_type": "code",
   "execution_count": 12,
   "metadata": {},
   "outputs": [
    {
     "name": "stdout",
     "output_type": "stream",
     "text": [
      "A média da nota é: 515.1\n"
     ]
    }
   ],
   "source": [
    "# numpy\n",
    "print(\"A média da nota é: {}\" .format(round(np.mean(nota_ch_f),1)))"
   ]
  },
  {
   "cell_type": "markdown",
   "metadata": {},
   "source": [
    "> ### Qual é a média da nota em Ciências Humanas dos alunos do sexo MASCULINO?"
   ]
  },
  {
   "cell_type": "code",
   "execution_count": 13,
   "metadata": {},
   "outputs": [],
   "source": [
    "# Criando um objeto\n",
    "nota_ch_m = df_enem_mg.loc[(df_enem_mg.TP_SEXO == 'M'),\n",
    "                           'NU_NOTA_CH']"
   ]
  },
  {
   "cell_type": "code",
   "execution_count": 14,
   "metadata": {},
   "outputs": [
    {
     "name": "stdout",
     "output_type": "stream",
     "text": [
      "A média da nota é: 529.6982704731574\n"
     ]
    }
   ],
   "source": [
    "# pandas\n",
    "print(\"A média da nota é: {}\" .format(nota_ch_m.mean()))"
   ]
  },
  {
   "cell_type": "code",
   "execution_count": 15,
   "metadata": {},
   "outputs": [
    {
     "name": "stdout",
     "output_type": "stream",
     "text": [
      "A média da nota é: 529.7\n"
     ]
    }
   ],
   "source": [
    "# numpy\n",
    "print(\"A média da nota é: {}\" .format(round(np.mean(nota_ch_m),1)))"
   ]
  },
  {
   "cell_type": "markdown",
   "metadata": {},
   "source": [
    "> ### Qual é a média da nota em matemática dos alunos do sexo FEMININO que moram na cidade de Montes Claros?"
   ]
  },
  {
   "cell_type": "code",
   "execution_count": 16,
   "metadata": {},
   "outputs": [],
   "source": [
    "# Criando um objeto\n",
    "nota_mt_mc_f =  df_enem_mg.loc[(df_enem_mg.NO_MUNICIPIO_RESIDENCIA == 'Montes Claros') &\n",
    "                               (df_enem_mg.TP_SEXO == 'F'),\n",
    "                               'NU_NOTA_MT']"
   ]
  },
  {
   "cell_type": "code",
   "execution_count": 17,
   "metadata": {},
   "outputs": [
    {
     "name": "stdout",
     "output_type": "stream",
     "text": [
      "A média da nota é: 525.4776724249901\n"
     ]
    }
   ],
   "source": [
    "# pandas\n",
    "print(\"A média da nota é: {}\" .format(nota_mt_mc_f.mean()))"
   ]
  },
  {
   "cell_type": "code",
   "execution_count": 18,
   "metadata": {},
   "outputs": [
    {
     "name": "stdout",
     "output_type": "stream",
     "text": [
      "A média da nota é: 525.5\n"
     ]
    }
   ],
   "source": [
    "# numpy\n",
    "print(\"A média da nota é: {}\" .format(round(np.mean(nota_mt_mc_f),1)))"
   ]
  },
  {
   "cell_type": "markdown",
   "metadata": {},
   "source": [
    "> ### Qual é a média da nota em Matemática dos alunos do município de Sabará que possuem TV por assinatura na residência?"
   ]
  },
  {
   "cell_type": "code",
   "execution_count": 19,
   "metadata": {},
   "outputs": [],
   "source": [
    "# Criando um objeto\n",
    "nota_mt_sabara_tv =  df_enem_mg.loc[(df_enem_mg.NO_MUNICIPIO_RESIDENCIA == 'Sabará') &\n",
    "                                    (df_enem_mg.Q021 == 'B'),\n",
    "                                     'NU_NOTA_MT']"
   ]
  },
  {
   "cell_type": "code",
   "execution_count": 20,
   "metadata": {},
   "outputs": [
    {
     "name": "stdout",
     "output_type": "stream",
     "text": [
      "A média da nota é: 543.2927556818183\n"
     ]
    }
   ],
   "source": [
    "# pandas\n",
    "print(\"A média da nota é: {}\" .format(nota_mt_sabara_tv.mean()))"
   ]
  },
  {
   "cell_type": "code",
   "execution_count": 21,
   "metadata": {},
   "outputs": [
    {
     "name": "stdout",
     "output_type": "stream",
     "text": [
      "A média da nota é: 543.3\n"
     ]
    }
   ],
   "source": [
    "# numpy\n",
    "print(\"A média da nota é: {}\" .format(round(np.mean(nota_mt_sabara_tv),1)))"
   ]
  },
  {
   "cell_type": "markdown",
   "metadata": {},
   "source": [
    "> ### Qual é a média da nota em Ciências Humanas dos alunos mineiros que possuem dois fornos de micro-ondas em casa?"
   ]
  },
  {
   "cell_type": "code",
   "execution_count": 22,
   "metadata": {},
   "outputs": [],
   "source": [
    "# Criando um objeto\n",
    "nota_ch_dois_fornos =  df_enem_mg.loc[(df_enem_mg.Q016 == 'C'),\n",
    "                                      'NU_NOTA_CH']"
   ]
  },
  {
   "cell_type": "code",
   "execution_count": 23,
   "metadata": {},
   "outputs": [
    {
     "name": "stdout",
     "output_type": "stream",
     "text": [
      "A média da nota é: 557.2765986394558\n"
     ]
    }
   ],
   "source": [
    "# pandas\n",
    "print(\"A média da nota é: {}\" .format(nota_ch_dois_fornos.mean()))"
   ]
  },
  {
   "cell_type": "code",
   "execution_count": 24,
   "metadata": {},
   "outputs": [
    {
     "name": "stdout",
     "output_type": "stream",
     "text": [
      "A média da nota é: 557.3\n"
     ]
    }
   ],
   "source": [
    "# numpy\n",
    "print(\"A média da nota é: {}\" .format(round(np.mean(nota_ch_dois_fornos),1)))"
   ]
  },
  {
   "cell_type": "markdown",
   "metadata": {},
   "source": [
    "> ### Qual é a nota média em Matemática dos alunos mineiros cuja mãe completou a pós-graduação?"
   ]
  },
  {
   "cell_type": "code",
   "execution_count": 25,
   "metadata": {},
   "outputs": [],
   "source": [
    "# Criando um objeto\n",
    "nota_mt_mae_com_pos =  df_enem_mg.loc[(df_enem_mg.Q002 == 'G'),\n",
    "                                      'NU_NOTA_MT']"
   ]
  },
  {
   "cell_type": "code",
   "execution_count": 26,
   "metadata": {},
   "outputs": [
    {
     "name": "stdout",
     "output_type": "stream",
     "text": [
      "A média da nota é: 620.007062070985\n"
     ]
    }
   ],
   "source": [
    "# pandas\n",
    "print(\"A média da nota é: {}\" .format(nota_mt_mae_com_pos.mean()))"
   ]
  },
  {
   "cell_type": "code",
   "execution_count": 27,
   "metadata": {},
   "outputs": [
    {
     "name": "stdout",
     "output_type": "stream",
     "text": [
      "A média da nota é: 620.0\n"
     ]
    }
   ],
   "source": [
    "# numpy\n",
    "print(\"A média da nota é: {}\" .format(round(np.mean(nota_mt_mae_com_pos),1)))"
   ]
  },
  {
   "cell_type": "markdown",
   "metadata": {},
   "source": [
    "> ### Qual é a nota média em Matemática dos alunos de Belo Horizonte e de Conselheiro Lafaiete?"
   ]
  },
  {
   "cell_type": "code",
   "execution_count": 28,
   "metadata": {},
   "outputs": [],
   "source": [
    "# Criando um objeto\n",
    "nota_mt_bh_cl =  df_enem_mg.loc[(df_enem_mg.NO_MUNICIPIO_RESIDENCIA.isin(['Conselheiro Lafaiete',\n",
    "                                                                          'Belo Horizonte'])\n",
    "                                ),\n",
    "                                'NU_NOTA_MT']"
   ]
  },
  {
   "cell_type": "code",
   "execution_count": 29,
   "metadata": {},
   "outputs": [
    {
     "name": "stdout",
     "output_type": "stream",
     "text": [
      "A média da nota é: 578.0392265100068\n"
     ]
    }
   ],
   "source": [
    "# pandas\n",
    "print(\"A média da nota é: {}\" .format(nota_mt_bh_cl.mean()))"
   ]
  },
  {
   "cell_type": "code",
   "execution_count": 30,
   "metadata": {},
   "outputs": [
    {
     "name": "stdout",
     "output_type": "stream",
     "text": [
      "A média da nota é: 578.0\n"
     ]
    }
   ],
   "source": [
    "# numpy\n",
    "print(\"A média da nota é: {}\" .format(round(np.mean(nota_mt_bh_cl),1)))"
   ]
  },
  {
   "cell_type": "markdown",
   "metadata": {},
   "source": [
    "> ### Qual é a nota média em Ciências Humanas dos alunos mineiros que moram sozinhos?"
   ]
  },
  {
   "cell_type": "code",
   "execution_count": 31,
   "metadata": {},
   "outputs": [],
   "source": [
    "# Criando um objeto\n",
    "nota_ch_moram_sozinhos =  df_enem_mg.loc[(df_enem_mg.Q005 == 1),\n",
    "                                          'NU_NOTA_CH']"
   ]
  },
  {
   "cell_type": "code",
   "execution_count": 32,
   "metadata": {},
   "outputs": [
    {
     "name": "stdout",
     "output_type": "stream",
     "text": [
      "A média da nota é: 534.4573388609205\n"
     ]
    }
   ],
   "source": [
    "# pandas\n",
    "print(\"A média da nota é: {}\" .format(nota_ch_moram_sozinhos.mean()))"
   ]
  },
  {
   "cell_type": "code",
   "execution_count": 33,
   "metadata": {},
   "outputs": [
    {
     "name": "stdout",
     "output_type": "stream",
     "text": [
      "A média da nota é: 534.5\n"
     ]
    }
   ],
   "source": [
    "# numpy\n",
    "print(\"A média da nota é: {}\" .format(round(np.mean(nota_ch_moram_sozinhos),1)))"
   ]
  },
  {
   "cell_type": "markdown",
   "metadata": {},
   "source": [
    "> ### Qual é a nota média em Ciências Humanas dos alunos mineiros cujo pai completou Pós Graduação e possuem renda familiar entre `R$ 8.982,01` e R$ `9.980,00`"
   ]
  },
  {
   "cell_type": "code",
   "execution_count": 34,
   "metadata": {},
   "outputs": [],
   "source": [
    "# Criando um objeto\n",
    "nota_ch_pai_com_pos_renda =  df_enem_mg.loc[(df_enem_mg.Q001 == 'G') &\n",
    "                                            (df_enem_mg.Q006 == 'M'),\n",
    "                                            'NU_NOTA_CH']"
   ]
  },
  {
   "cell_type": "code",
   "execution_count": 35,
   "metadata": {},
   "outputs": [
    {
     "name": "stdout",
     "output_type": "stream",
     "text": [
      "A média da nota é: 586.7231663685159\n"
     ]
    }
   ],
   "source": [
    "# pandas\n",
    "print(\"A média da nota é: {}\" .format(nota_ch_pai_com_pos_renda.mean()))"
   ]
  },
  {
   "cell_type": "code",
   "execution_count": 36,
   "metadata": {},
   "outputs": [
    {
     "name": "stdout",
     "output_type": "stream",
     "text": [
      "A média da nota é: 586.7\n"
     ]
    }
   ],
   "source": [
    "# numpy\n",
    "print(\"A média da nota é: {}\" .format(round(np.mean(nota_ch_pai_com_pos_renda),1)))"
   ]
  },
  {
   "cell_type": "markdown",
   "metadata": {},
   "source": [
    "## Os demais códigos utilizarei \"`query`\" para mostrar uma outra forma de obter resultados "
   ]
  },
  {
   "cell_type": "markdown",
   "metadata": {},
   "source": [
    "> ### Qual é a nota média em Matemática dos alunos do sexo FEMININO que moram em Lavras e escolheram \"Espanhol\" como língua estrangeira?"
   ]
  },
  {
   "cell_type": "code",
   "execution_count": 38,
   "metadata": {},
   "outputs": [],
   "source": [
    "nota_mt_f_lavras = df_enem_mg.query(\"TP_SEXO == 'F' and \\\n",
    "                                     NO_MUNICIPIO_RESIDENCIA == 'Lavras' and \\\n",
    "                                     TP_LINGUA == 1\") \\\n",
    "                                   ['NU_NOTA_MT']"
   ]
  },
  {
   "cell_type": "code",
   "execution_count": 39,
   "metadata": {},
   "outputs": [
    {
     "name": "stdout",
     "output_type": "stream",
     "text": [
      "A média da nota é: 510.80950782997775\n"
     ]
    }
   ],
   "source": [
    "# pandas\n",
    "print(\"A média da nota é: {}\" .format(nota_mt_f_lavras.mean()))"
   ]
  },
  {
   "cell_type": "code",
   "execution_count": 40,
   "metadata": {},
   "outputs": [
    {
     "name": "stdout",
     "output_type": "stream",
     "text": [
      "A média da nota é: 510.8\n"
     ]
    }
   ],
   "source": [
    "# numpy\n",
    "print(\"A média da nota é: {}\" .format(round(np.mean(nota_mt_f_lavras),1)))"
   ]
  },
  {
   "cell_type": "markdown",
   "metadata": {},
   "source": [
    "> ### Qual é a nota média em Matemática dos alunos do sexo Masculino que moram em Ouro Preto?"
   ]
  },
  {
   "cell_type": "code",
   "execution_count": 41,
   "metadata": {},
   "outputs": [],
   "source": [
    "nt_mt_m_op = df_enem_mg.query(\"TP_SEXO == 'M' and NO_MUNICIPIO_RESIDENCIA == 'Ouro Preto'\")['NU_NOTA_MT']"
   ]
  },
  {
   "cell_type": "code",
   "execution_count": 42,
   "metadata": {},
   "outputs": [
    {
     "name": "stdout",
     "output_type": "stream",
     "text": [
      "A média da nota é: 555.0832520325198\n"
     ]
    }
   ],
   "source": [
    "# pandas\n",
    "print(\"A média da nota é: {}\" .format(nt_mt_m_op.mean()))"
   ]
  },
  {
   "cell_type": "code",
   "execution_count": 43,
   "metadata": {},
   "outputs": [
    {
     "name": "stdout",
     "output_type": "stream",
     "text": [
      "A média da nota é: 555.1\n"
     ]
    }
   ],
   "source": [
    "# numpy\n",
    "print(\"A média da nota é: {}\" .format(round(np.mean(nt_mt_m_op),1)))"
   ]
  },
  {
   "cell_type": "markdown",
   "metadata": {},
   "source": [
    "> ### Qual é a nota média em Ciências Humanas dos alunos surdos?"
   ]
  },
  {
   "cell_type": "code",
   "execution_count": 44,
   "metadata": {},
   "outputs": [],
   "source": [
    "nt_ch_surdos = df_enem_mg.query(\"IN_SURDEZ == 1\")['NU_NOTA_CH']"
   ]
  },
  {
   "cell_type": "code",
   "execution_count": 45,
   "metadata": {},
   "outputs": [
    {
     "name": "stdout",
     "output_type": "stream",
     "text": [
      "A média da nota é: 435.38796296296283\n"
     ]
    }
   ],
   "source": [
    "# pandas\n",
    "print(\"A média da nota é: {}\" .format(nt_ch_surdos.mean()))"
   ]
  },
  {
   "cell_type": "code",
   "execution_count": 46,
   "metadata": {},
   "outputs": [
    {
     "name": "stdout",
     "output_type": "stream",
     "text": [
      "A média da nota é: 435.4\n"
     ]
    }
   ],
   "source": [
    "# numpy\n",
    "print(\"A média da nota é: {}\" .format(round(np.mean(nt_ch_surdos),1)))"
   ]
  },
  {
   "cell_type": "markdown",
   "metadata": {},
   "source": [
    "> ### Qual é a nota média em Matemática dos alunos do sexo FEMININO que moram em Belo Horizonte, Sabará, Nova Lima e Betim e possuem dislexia?"
   ]
  },
  {
   "cell_type": "code",
   "execution_count": 47,
   "metadata": {},
   "outputs": [],
   "source": [
    "nt_f_diversas_cidades = df_enem_mg.query(\"TP_SEXO == 'F' and \\\n",
    "                                          NO_MUNICIPIO_RESIDENCIA in ('Belo Horizonte', \\\n",
    "                                                                      'Sabará', \\\n",
    "                                                                      'Nova Lima', \\\n",
    "                                                                      'Betim') and \\\n",
    "                                          IN_DISLEXIA == 1\") \\\n",
    "                                         ['NU_NOTA_MT']"
   ]
  },
  {
   "cell_type": "code",
   "execution_count": 48,
   "metadata": {},
   "outputs": [
    {
     "name": "stdout",
     "output_type": "stream",
     "text": [
      "A média da nota é: 582.1935483870968\n"
     ]
    }
   ],
   "source": [
    "# pandas\n",
    "print(\"A média da nota é: {}\" .format(nt_f_diversas_cidades.mean()))"
   ]
  },
  {
   "cell_type": "code",
   "execution_count": 49,
   "metadata": {},
   "outputs": [
    {
     "name": "stdout",
     "output_type": "stream",
     "text": [
      "A média da nota é: 582.2\n"
     ]
    }
   ],
   "source": [
    "# numpy\n",
    "print(\"A média da nota é: {}\" .format(round(np.mean(nt_f_diversas_cidades),1)))"
   ]
  },
  {
   "cell_type": "markdown",
   "metadata": {},
   "source": [
    "## Continua...\n",
    "### Próximo arquivo (03-Load_MySQL.ipynb)"
   ]
  },
  {
   "cell_type": "markdown",
   "metadata": {},
   "source": [
    "# FIM...\n",
    "### WebSite Pessoal: [thomazrossito](https://www.thomazrossito.com.br)"
   ]
  }
 ],
 "metadata": {
  "kernelspec": {
   "display_name": "Python 3",
   "language": "python",
   "name": "python3"
  },
  "language_info": {
   "codemirror_mode": {
    "name": "ipython",
    "version": 3
   },
   "file_extension": ".py",
   "mimetype": "text/x-python",
   "name": "python",
   "nbconvert_exporter": "python",
   "pygments_lexer": "ipython3",
   "version": "3.8.5"
  }
 },
 "nbformat": 4,
 "nbformat_minor": 4
}
